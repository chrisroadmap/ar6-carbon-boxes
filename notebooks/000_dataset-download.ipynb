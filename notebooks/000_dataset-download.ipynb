{
 "cells": [
  {
   "cell_type": "markdown",
   "id": "3bd1fb58",
   "metadata": {},
   "source": [
    "# Dataset download\n",
    "\n",
    "This will download the RCMIP emissions dataset and the FaIR calibrations for AR6."
   ]
  },
  {
   "cell_type": "code",
   "execution_count": 1,
   "id": "22079d84",
   "metadata": {},
   "outputs": [],
   "source": [
    "from climateforcing.utils import check_and_download"
   ]
  },
  {
   "cell_type": "code",
   "execution_count": 2,
   "id": "9617d4f0",
   "metadata": {},
   "outputs": [],
   "source": [
    "#mkdir_p('../data_input/rcmip/')"
   ]
  },
  {
   "cell_type": "code",
   "execution_count": 3,
   "id": "198488d7",
   "metadata": {},
   "outputs": [],
   "source": [
    "# NOTE: if you are going to actually download this emissions file, don't forget to add it to .gitignore!\n",
    "\n",
    "check_and_download(\n",
    "    url='https://zenodo.org/record/4589756/files/rcmip-emissions-annual-means-v5-1-0.csv',\n",
    "    filepath='../data_input/rcmip/'\n",
    ")"
   ]
  },
  {
   "cell_type": "code",
   "execution_count": 4,
   "id": "c3c16902",
   "metadata": {},
   "outputs": [],
   "source": [
    "check_and_download(\n",
    "    url='https://zenodo.org/record/5513022/files/fair-1.6.2-wg3-params.json',\n",
    "    filepath='../data_input/fair-1.6.2/'\n",
    ")"
   ]
  },
  {
   "cell_type": "code",
   "execution_count": 5,
   "id": "6e099e00",
   "metadata": {},
   "outputs": [
    {
     "name": "stderr",
     "output_type": "stream",
     "text": [
      "tlm_lower_layer_warming_2015v1850-1900.csv: 49.2kB [00:00, 72.0kB/s]            \n"
     ]
    }
   ],
   "source": [
    "check_and_download(\n",
    "    url='https://github.com/chrisroadmap/ar6/raw/main/data_output/tlm_lower_layer_warming_2015v1850-1900.csv',\n",
    "    filepath='../data_input/wg1/'\n",
    ")"
   ]
  }
 ],
 "metadata": {
  "kernelspec": {
   "display_name": "Python 3 (ipykernel)",
   "language": "python",
   "name": "python3"
  },
  "language_info": {
   "codemirror_mode": {
    "name": "ipython",
    "version": 3
   },
   "file_extension": ".py",
   "mimetype": "text/x-python",
   "name": "python",
   "nbconvert_exporter": "python",
   "pygments_lexer": "ipython3",
   "version": "3.10.5"
  }
 },
 "nbformat": 4,
 "nbformat_minor": 5
}
