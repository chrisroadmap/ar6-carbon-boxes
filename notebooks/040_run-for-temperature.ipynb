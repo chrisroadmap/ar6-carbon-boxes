{
 "cells": [
  {
   "cell_type": "markdown",
   "id": "7185e77d",
   "metadata": {},
   "source": [
    "# Run AR6-WG3 fair but focus on saving out the two ocean layers"
   ]
  },
  {
   "cell_type": "markdown",
   "id": "6891c8f1",
   "metadata": {},
   "source": [
    "## import required packages"
   ]
  },
  {
   "cell_type": "code",
   "execution_count": 1,
   "id": "c95a7ef0",
   "metadata": {},
   "outputs": [],
   "source": [
    "import fair\n",
    "import pandas as pd\n",
    "import numpy as np\n",
    "from scipy.interpolate import interp1d\n",
    "import json\n",
    "from tqdm import tqdm\n",
    "import pickle\n",
    "import matplotlib.pyplot as pl"
   ]
  },
  {
   "cell_type": "markdown",
   "id": "18809f22",
   "metadata": {},
   "source": [
    "## get SSP2-4.5 emissions pathways (original CMIP6 version)"
   ]
  },
  {
   "cell_type": "code",
   "execution_count": 2,
   "id": "570800fe",
   "metadata": {},
   "outputs": [],
   "source": [
    "ssp_df = pd.read_csv('../data_input/rcmip/rcmip-emissions-annual-means-v5-1-0.csv')\n",
    "years = np.arange(1750, 2021)\n",
    "\n",
    "startyear = 1750\n",
    "first_scenyear = 2015\n",
    "last_scenyear = 2020\n",
    "first_row = int(first_scenyear-startyear)\n",
    "last_row = int(last_scenyear-startyear)\n",
    "\n",
    "species = [\n",
    "    '|CO2|MAGICC Fossil and Industrial',\n",
    "    '|CO2|MAGICC AFOLU',\n",
    "    '|CH4',\n",
    "    '|N2O',\n",
    "    '|Sulfur',\n",
    "    '|CO',\n",
    "    '|VOC',\n",
    "    '|NOx',\n",
    "    '|BC',\n",
    "    '|OC',\n",
    "    '|NH3',\n",
    "    '|CF4',\n",
    "    '|C2F6',\n",
    "    '|C6F14',\n",
    "    '|HFC23',\n",
    "    '|HFC32',\n",
    "    '|HFC4310mee',\n",
    "    '|HFC125',\n",
    "    '|HFC134a',\n",
    "    '|HFC143a',\n",
    "    '|HFC227ea',\n",
    "    '|HFC245fa',\n",
    "    '|SF6',\n",
    "    '|CFC11',\n",
    "    '|CFC12',\n",
    "    '|CFC113',\n",
    "    '|CFC114',\n",
    "    '|CFC115',\n",
    "    '|CCl4',\n",
    "    '|CH3CCl3',\n",
    "    '|HCFC22',\n",
    "    '|HCFC141b',\n",
    "    '|HCFC142b',\n",
    "    '|Halon1211',\n",
    "    '|Halon1202',\n",
    "    '|Halon1301',\n",
    "    '|Halon2402',\n",
    "    '|CH3Br',\n",
    "    '|CH3Cl',\n",
    "]\n",
    "\n",
    "unit_convert = np.ones(40)\n",
    "unit_convert[1] = 12/44/1000\n",
    "unit_convert[2] = 12/44/1000\n",
    "unit_convert[4] = 28/44/1000\n",
    "unit_convert[5] = 32/64\n",
    "unit_convert[8] = 14/46\n",
    "\n",
    "emissions_out = np.ones((271, 40)) * np.nan\n",
    "emissions_out[:,0] = years\n",
    "\n",
    "years_future = [2015, 2020]\n",
    "for i, specie in enumerate(species):\n",
    "    emissions_out[:first_row,i+1] = ssp_df.loc[\n",
    "        (ssp_df['Model']=='MESSAGE-GLOBIOM')&\n",
    "        (ssp_df['Region']=='World')&\n",
    "        (ssp_df['Scenario']=='ssp245')&\n",
    "        (ssp_df['Variable'].str.endswith(specie)),str(startyear):'2014']*unit_convert[i+1]\n",
    "    f = interp1d(years_future, ssp_df.loc[\n",
    "        (ssp_df['Model']=='MESSAGE-GLOBIOM')&\n",
    "        (ssp_df['Region']=='World')&\n",
    "        (ssp_df['Scenario']=='ssp245')&\n",
    "        (ssp_df['Variable'].str.endswith(specie)), '2015':'2020'].dropna(axis=1))\n",
    "    emissions_out[first_row:(last_row+1), i+1] = f(\n",
    "        np.arange(first_scenyear, last_scenyear+1)\n",
    "    )*unit_convert[i+1]"
   ]
  },
  {
   "cell_type": "markdown",
   "id": "825833e6",
   "metadata": {},
   "source": [
    "## get FaIR v1.6.2 AR6 config\n",
    "\n",
    "It's ok to run 1.6.4 with the 1.6.2 config, they are the same model but the slightly later version enables multigas restarts"
   ]
  },
  {
   "cell_type": "code",
   "execution_count": 3,
   "id": "57cb80f9",
   "metadata": {},
   "outputs": [],
   "source": [
    "with open('../data_input/fair-1.6.2/fair-1.6.2-wg3-params.json') as f:\n",
    "    config_list = json.load(f)"
   ]
  },
  {
   "cell_type": "markdown",
   "id": "ae2e7924",
   "metadata": {},
   "source": [
    "## run FaIR"
   ]
  },
  {
   "cell_type": "code",
   "execution_count": 6,
   "id": "5db26eb9",
   "metadata": {},
   "outputs": [],
   "source": [
    "def run_fair(args):\n",
    "    c, f, t, _, _, _, _ = fair.forward.fair_scm(**args)\n",
    "    return (\n",
    "        c[:,0],\n",
    "        np.sum(f, axis=1), \n",
    "        t-np.mean(t[100:151]),\n",
    "    )\n",
    "\n",
    "def fair_process(emissions):\n",
    "    updated_config = []\n",
    "    for i, cfg in enumerate(config_list):\n",
    "        updated_config.append({})\n",
    "        for key, value in cfg.items():\n",
    "            if isinstance(value, list):\n",
    "                updated_config[i][key] = np.asarray(value)\n",
    "            else:\n",
    "                updated_config[i][key] = value\n",
    "        updated_config[i]['emissions'] = emissions[:266]\n",
    "        updated_config[i]['diagnostics'] = 'AR6'\n",
    "        updated_config[i][\"efficacy\"] = np.ones(45)\n",
    "        updated_config[i][\"gir_carbon_cycle\"] = True\n",
    "        updated_config[i][\"temperature_function\"] = \"Geoffroy\"\n",
    "        updated_config[i][\"aerosol_forcing\"] = \"aerocom+ghan2\"\n",
    "        updated_config[i][\"fixPre1850RCP\"] = False\n",
    "        solar_truncated = updated_config[i][\"F_solar\"][:266]\n",
    "        updated_config[i]['F_solar'] = solar_truncated\n",
    "        volcanic_truncated = updated_config[i][\"F_volcanic\"][:266]\n",
    "        updated_config[i]['F_volcanic'] = volcanic_truncated\n",
    "        nat_truncated = updated_config[i]['natural'][:266, :]\n",
    "        updated_config[i]['natural'] = nat_truncated\n",
    "        \n",
    "    shape = (266, len(updated_config))\n",
    "    c_co2 = np.ones(shape) * np.nan\n",
    "    t = np.ones(shape) * np.nan\n",
    "    f_tot = np.ones(shape) * np.nan\n",
    "    \n",
    "    for i, cfg in tqdm(enumerate(updated_config), total=len(updated_config), position=0, leave=True):\n",
    "        c_co2[:,i], f_tot[:,i], t[:,i] = run_fair(updated_config[i])\n",
    "\n",
    "\n",
    "    return c_co2, f_tot, t"
   ]
  },
  {
   "cell_type": "code",
   "execution_count": 7,
   "id": "b0a5fa7a",
   "metadata": {},
   "outputs": [
    {
     "name": "stderr",
     "output_type": "stream",
     "text": [
      "100%|███████████████████████████████████████| 2237/2237 [03:26<00:00, 10.84it/s]\n"
     ]
    }
   ],
   "source": [
    "results_out = {}\n",
    "(\n",
    "    _,\n",
    "    _,\n",
    "    results_out['temperatures'],\n",
    ") = fair_process(emissions_out)"
   ]
  },
  {
   "cell_type": "code",
   "execution_count": 9,
   "id": "74f42268",
   "metadata": {},
   "outputs": [
    {
     "data": {
      "text/plain": [
       "array([[-0.03155906, -0.02997186, -0.00632323, ..., -0.03067784,\n",
       "        -0.05260862, -0.02570833],\n",
       "       [-0.0095842 , -0.01187964,  0.01235815, ..., -0.0093414 ,\n",
       "        -0.02956206, -0.00300636],\n",
       "       [ 0.00678337, -0.00249307,  0.01783745, ...,  0.00341315,\n",
       "        -0.0150688 ,  0.01201941],\n",
       "       ...,\n",
       "       [ 1.13082859,  1.03954602,  0.8588632 , ...,  1.20480302,\n",
       "         1.18292661,  1.27450852],\n",
       "       [ 1.15625442,  1.06142498,  0.88018399, ...,  1.23200088,\n",
       "         1.21233706,  1.30814952],\n",
       "       [ 1.18242527,  1.08027031,  0.89837056, ...,  1.25760808,\n",
       "         1.2411609 ,  1.34113701]])"
      ]
     },
     "execution_count": 9,
     "metadata": {},
     "output_type": "execute_result"
    }
   ],
   "source": [
    "results_out['temperatures']"
   ]
  },
  {
   "cell_type": "code",
   "execution_count": 14,
   "id": "f2f74227",
   "metadata": {},
   "outputs": [
    {
     "data": {
      "text/plain": [
       "0.8811159557777971"
      ]
     },
     "execution_count": 14,
     "metadata": {},
     "output_type": "execute_result"
    }
   ],
   "source": [
    "np.median(results_out['temperatures'][245:265,:].mean(axis=0))"
   ]
  },
  {
   "cell_type": "code",
   "execution_count": 15,
   "id": "1b53aa3b",
   "metadata": {},
   "outputs": [
    {
     "data": {
      "text/plain": [
       "1.1400066728830103"
      ]
     },
     "execution_count": 15,
     "metadata": {},
     "output_type": "execute_result"
    }
   ],
   "source": [
    "np.median(results_out['temperatures'][265,:].mean(axis=0))"
   ]
  },
  {
   "cell_type": "code",
   "execution_count": null,
   "id": "e833bcc9",
   "metadata": {},
   "outputs": [],
   "source": []
  }
 ],
 "metadata": {
  "kernelspec": {
   "display_name": "Python 3 (ipykernel)",
   "language": "python",
   "name": "python3"
  },
  "language_info": {
   "codemirror_mode": {
    "name": "ipython",
    "version": 3
   },
   "file_extension": ".py",
   "mimetype": "text/x-python",
   "name": "python",
   "nbconvert_exporter": "python",
   "pygments_lexer": "ipython3",
   "version": "3.10.5"
  }
 },
 "nbformat": 4,
 "nbformat_minor": 5
}
