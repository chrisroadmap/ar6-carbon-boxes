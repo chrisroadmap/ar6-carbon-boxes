{
 "cells": [
  {
   "cell_type": "markdown",
   "id": "e8359a85",
   "metadata": {},
   "source": [
    "# Diagnostic plots\n",
    "\n",
    "Let's see if everything is looking as it should: testing\n",
    "- CO2 concentration\n",
    "- temperature\n",
    "- radiative forcing"
   ]
  },
  {
   "cell_type": "markdown",
   "id": "113b0e88",
   "metadata": {},
   "source": [
    "## Grab imports"
   ]
  },
  {
   "cell_type": "code",
   "execution_count": null,
   "id": "0b88f6db",
   "metadata": {},
   "outputs": [],
   "source": [
    "import pickle\n",
    "import numpy as np\n",
    "import matplotlib.pyplot as pl\n",
    "from fair.constants.general import ppm_gtc"
   ]
  },
  {
   "cell_type": "markdown",
   "id": "f6c79bdd",
   "metadata": {},
   "source": [
    "## Load pre-calculated results"
   ]
  },
  {
   "cell_type": "code",
   "execution_count": null,
   "id": "c6947edb",
   "metadata": {},
   "outputs": [],
   "source": [
    "with open('../data_output/fair-1.6.4/fair-1.6.4-carbon-boxes.pkl', 'rb') as f:\n",
    "    results_out = pickle.load(f)"
   ]
  },
  {
   "cell_type": "markdown",
   "id": "7aa97108",
   "metadata": {},
   "source": [
    "## Diagnostic plots"
   ]
  },
  {
   "cell_type": "code",
   "execution_count": null,
   "id": "da09cdf6",
   "metadata": {},
   "outputs": [],
   "source": [
    "pl.plot(np.arange(1750, 2021), results_out['temperatures'])\n",
    "pl.grid()"
   ]
  },
  {
   "cell_type": "code",
   "execution_count": null,
   "id": "f5c692f1",
   "metadata": {},
   "outputs": [],
   "source": [
    "pl.plot(np.arange(1750, 2021), results_out['concentrations'])\n",
    "pl.grid()"
   ]
  },
  {
   "cell_type": "code",
   "execution_count": null,
   "id": "2238ad5c",
   "metadata": {},
   "outputs": [],
   "source": [
    "pl.plot(np.arange(1750, 2021), results_out['effective_radiative_forcings'])\n",
    "pl.grid()"
   ]
  },
  {
   "cell_type": "markdown",
   "id": "859d2da7",
   "metadata": {},
   "source": [
    "## Print results\n",
    "\n",
    "Present as both ppm and GtC atmospheric stock units"
   ]
  },
  {
   "cell_type": "code",
   "execution_count": null,
   "id": "6b7435c3",
   "metadata": {},
   "outputs": [],
   "source": [
    "print(results_out['carbon_boxes'][0,:].mean(), results_out['carbon_boxes'][0,:].mean()*ppm_gtc)\n",
    "print(results_out['carbon_boxes'][1,:].mean(), results_out['carbon_boxes'][1,:].mean()*ppm_gtc)\n",
    "print(results_out['carbon_boxes'][2,:].mean(), results_out['carbon_boxes'][2,:].mean()*ppm_gtc)\n",
    "print(results_out['carbon_boxes'][3,:].mean(), results_out['carbon_boxes'][3,:].mean()*ppm_gtc)"
   ]
  },
  {
   "cell_type": "code",
   "execution_count": null,
   "id": "a0bdded1",
   "metadata": {},
   "outputs": [],
   "source": []
  }
 ],
 "metadata": {
  "kernelspec": {
   "display_name": "Python 3 (ipykernel)",
   "language": "python",
   "name": "python3"
  },
  "language_info": {
   "codemirror_mode": {
    "name": "ipython",
    "version": 3
   },
   "file_extension": ".py",
   "mimetype": "text/x-python",
   "name": "python",
   "nbconvert_exporter": "python",
   "pygments_lexer": "ipython3",
   "version": "3.10.2"
  }
 },
 "nbformat": 4,
 "nbformat_minor": 5
}
