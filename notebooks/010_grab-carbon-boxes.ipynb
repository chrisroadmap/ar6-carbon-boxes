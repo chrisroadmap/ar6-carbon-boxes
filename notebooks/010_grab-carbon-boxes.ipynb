{
 "cells": [
  {
   "cell_type": "markdown",
   "id": "704c9dba",
   "metadata": {},
   "source": [
    "# Grab carbon boxes\n",
    "\n",
    "This is likely to require the restarts to work with multi-gas - so needs fair version >= 1.6.3 and < 2.0"
   ]
  },
  {
   "cell_type": "markdown",
   "id": "937859d6",
   "metadata": {},
   "source": [
    "## import required packages"
   ]
  },
  {
   "cell_type": "code",
   "execution_count": 1,
   "id": "37e1306d",
   "metadata": {},
   "outputs": [],
   "source": [
    "import fair\n",
    "import pandas as pd\n",
    "import numpy as np\n",
    "from scipy.interpolate import interp1d\n",
    "import scipy.linalg\n",
    "import json\n",
    "from tqdm import tqdm\n",
    "import pickle\n",
    "from climateforcing.utils import mkdir_p\n",
    "import matplotlib.pyplot as pl"
   ]
  },
  {
   "cell_type": "markdown",
   "id": "80cd3014",
   "metadata": {},
   "source": [
    "## check version installed"
   ]
  },
  {
   "cell_type": "code",
   "execution_count": 2,
   "id": "ee2d80ce",
   "metadata": {},
   "outputs": [
    {
     "data": {
      "text/plain": [
       "'1.6.4'"
      ]
     },
     "execution_count": 2,
     "metadata": {},
     "output_type": "execute_result"
    }
   ],
   "source": [
    "fair.__version__"
   ]
  },
  {
   "cell_type": "markdown",
   "id": "485c4ad5",
   "metadata": {},
   "source": [
    "## get SSP2-4.5 emissions pathways (original CMIP6 version)"
   ]
  },
  {
   "cell_type": "code",
   "execution_count": 3,
   "id": "034b07e0",
   "metadata": {},
   "outputs": [],
   "source": [
    "ssp_df = pd.read_csv('../data_input/rcmip/rcmip-emissions-annual-means-v5-1-0.csv')\n",
    "years = np.arange(1750, 2021)\n",
    "\n",
    "startyear = 1750\n",
    "first_scenyear = 2015\n",
    "last_scenyear = 2020\n",
    "first_row = int(first_scenyear-startyear)\n",
    "last_row = int(last_scenyear-startyear)\n",
    "\n",
    "species = [\n",
    "    '|CO2|MAGICC Fossil and Industrial',\n",
    "    '|CO2|MAGICC AFOLU',\n",
    "    '|CH4',\n",
    "    '|N2O',\n",
    "    '|Sulfur',\n",
    "    '|CO',\n",
    "    '|VOC',\n",
    "    '|NOx',\n",
    "    '|BC',\n",
    "    '|OC',\n",
    "    '|NH3',\n",
    "    '|CF4',\n",
    "    '|C2F6',\n",
    "    '|C6F14',\n",
    "    '|HFC23',\n",
    "    '|HFC32',\n",
    "    '|HFC4310mee',\n",
    "    '|HFC125',\n",
    "    '|HFC134a',\n",
    "    '|HFC143a',\n",
    "    '|HFC227ea',\n",
    "    '|HFC245fa',\n",
    "    '|SF6',\n",
    "    '|CFC11',\n",
    "    '|CFC12',\n",
    "    '|CFC113',\n",
    "    '|CFC114',\n",
    "    '|CFC115',\n",
    "    '|CCl4',\n",
    "    '|CH3CCl3',\n",
    "    '|HCFC22',\n",
    "    '|HCFC141b',\n",
    "    '|HCFC142b',\n",
    "    '|Halon1211',\n",
    "    '|Halon1202',\n",
    "    '|Halon1301',\n",
    "    '|Halon2402',\n",
    "    '|CH3Br',\n",
    "    '|CH3Cl',\n",
    "]\n",
    "\n",
    "unit_convert = np.ones(40)\n",
    "unit_convert[1] = 12/44/1000\n",
    "unit_convert[2] = 12/44/1000\n",
    "unit_convert[4] = 28/44/1000\n",
    "unit_convert[5] = 32/64\n",
    "unit_convert[8] = 14/46\n",
    "\n",
    "emissions_out = np.ones((271, 40)) * np.nan\n",
    "emissions_out[:,0] = years\n",
    "\n",
    "years_future = [2015, 2020]\n",
    "for i, specie in enumerate(species):\n",
    "    emissions_out[:first_row,i+1] = ssp_df.loc[\n",
    "        (ssp_df['Model']=='MESSAGE-GLOBIOM')&\n",
    "        (ssp_df['Region']=='World')&\n",
    "        (ssp_df['Scenario']=='ssp245')&\n",
    "        (ssp_df['Variable'].str.endswith(specie)),str(startyear):'2014']*unit_convert[i+1]\n",
    "    f = interp1d(years_future, ssp_df.loc[\n",
    "        (ssp_df['Model']=='MESSAGE-GLOBIOM')&\n",
    "        (ssp_df['Region']=='World')&\n",
    "        (ssp_df['Scenario']=='ssp245')&\n",
    "        (ssp_df['Variable'].str.endswith(specie)), '2015':'2020'].dropna(axis=1))\n",
    "    emissions_out[first_row:(last_row+1), i+1] = f(\n",
    "        np.arange(first_scenyear, last_scenyear+1)\n",
    "    )*unit_convert[i+1]"
   ]
  },
  {
   "cell_type": "code",
   "execution_count": 4,
   "id": "97927fb8",
   "metadata": {},
   "outputs": [
    {
     "data": {
      "text/plain": [
       "array([[1.75000000e+03, 2.59244179e-03, 8.11267109e-02, ...,\n",
       "        0.00000000e+00, 1.05087730e+02, 4.27574490e+03],\n",
       "       [1.75100000e+03, 2.59253543e-03, 8.26192087e-02, ...,\n",
       "        0.00000000e+00, 1.05107200e+02, 4.27676850e+03],\n",
       "       [1.75200000e+03, 2.59363692e-03, 8.41391642e-02, ...,\n",
       "        0.00000000e+00, 1.05125020e+02, 4.27770490e+03],\n",
       "       ...,\n",
       "       [2.01800000e+03, 1.00055432e+01, 9.17077254e-01, ...,\n",
       "        3.06640000e-01, 1.33680260e+02, 5.39921664e+03],\n",
       "       [2.01900000e+03, 1.01011528e+01, 9.03002400e-01, ...,\n",
       "        2.92820000e-01, 1.33632680e+02, 5.39735322e+03],\n",
       "       [2.02000000e+03, 1.01967624e+01, 8.88927545e-01, ...,\n",
       "        2.79000000e-01, 1.33585100e+02, 5.39548980e+03]])"
      ]
     },
     "execution_count": 4,
     "metadata": {},
     "output_type": "execute_result"
    }
   ],
   "source": [
    "emissions_out"
   ]
  },
  {
   "cell_type": "markdown",
   "id": "a7000183",
   "metadata": {},
   "source": [
    "## get FaIR v1.6.2 AR6 config\n",
    "\n",
    "It's ok to run 1.6.4 with the 1.6.2 config, they are the same model but the slightly later version enables multigas restarts"
   ]
  },
  {
   "cell_type": "code",
   "execution_count": 5,
   "id": "4bd6028d",
   "metadata": {},
   "outputs": [],
   "source": [
    "with open('../data_input/fair-1.6.2/fair-1.6.2-wg3-params.json') as f:\n",
    "    config_list = json.load(f)"
   ]
  },
  {
   "cell_type": "markdown",
   "id": "996a630f",
   "metadata": {},
   "source": [
    "## quick implementation of deterministic two-layer EBM\n",
    "\n",
    "Uses FaIR 2.0 (Leach et al. 2021) as implemented by Cummins et al. (2020)"
   ]
  },
  {
   "cell_type": "code",
   "execution_count": 6,
   "id": "3f0d859d",
   "metadata": {},
   "outputs": [],
   "source": [
    "tstep = 1\n",
    "\n",
    "# these are IPCC AR6 central estimates: Smith et al. (2021), chapter 7 SM, AR6, WG1\n",
    "f2x = 3.93\n",
    "ohc = [7.7/tstep, 147/tstep]\n",
    "oht = [1.31, 0.88]  \n",
    "    # in Cummins notation, the climate feedback parameter is kappa1, and ocean heat transfer is kappa2, ...\n",
    "eps = 1.03\n",
    "\n",
    "n_box = 2\n",
    "eb_matrix = np.zeros((n_box, n_box))\n",
    "\n",
    "# First row\n",
    "eb_matrix[0, :2] = [\n",
    "    -(oht[0]+eps*oht[1])/ohc[0],\n",
    "    eps*oht[1]/ohc[0],\n",
    "]\n",
    "\n",
    "# Last row\n",
    "eb_matrix[-1, -2:] = [\n",
    "    oht[-1]/ohc[-1],\n",
    "    -oht[-1]/ohc[-1]\n",
    "]\n",
    "\n",
    "## no stochastic stuff so this is all commented out\n",
    "#eb_matrix = np.insert(eb_matrix, 0, np.zeros(n_box), axis=0)\n",
    "#prepend_col = np.zeros(n_box+1)\n",
    "#prepend_col[0] = -1000  # no forcing autocorrelation\n",
    "#prepend_col[1] = 1/ohc[0]\n",
    "#eb_matrix = np.insert(eb_matrix, 0, prepend_col, axis=1)\n",
    "\n",
    "# Matrix exponential\n",
    "eb_matrix_d = scipy.linalg.expm(eb_matrix)\n",
    "eb_matrix_d\n",
    "\n",
    "forcing_vector = np.zeros(n_box)\n",
    "forcing_vector[0] = 1/ohc[0]\n",
    "# forcing_vector[0] = 1000\n",
    "forcing_vector_d = scipy.linalg.solve(eb_matrix, (eb_matrix_d - np.identity(n_box)) @ forcing_vector)\n",
    "forcing_vector_d\n",
    "\n",
    "solution1 = np.zeros((int(150/tstep)+1, n_box))\n",
    "# solution[0, 0] = 0\n",
    "for i in range(1, len(solution1)):\n",
    "    solution1[i, :] = eb_matrix_d @ solution1[i-1, :] + forcing_vector_d * f2x"
   ]
  },
  {
   "cell_type": "code",
   "execution_count": 7,
   "id": "97c9cf96",
   "metadata": {},
   "outputs": [
    {
     "data": {
      "text/plain": [
       "array([[0.75016935, 0.10197935],\n",
       "       [0.00518619, 0.99435103]])"
      ]
     },
     "execution_count": 7,
     "metadata": {},
     "output_type": "execute_result"
    }
   ],
   "source": [
    "eb_matrix_d"
   ]
  },
  {
   "cell_type": "code",
   "execution_count": 8,
   "id": "3eb1f8dd",
   "metadata": {
    "scrolled": true
   },
   "outputs": [
    {
     "data": {
      "text/plain": [
       "array([0.11286358, 0.00035326])"
      ]
     },
     "execution_count": 8,
     "metadata": {},
     "output_type": "execute_result"
    }
   ],
   "source": [
    "forcing_vector_d"
   ]
  },
  {
   "cell_type": "code",
   "execution_count": 9,
   "id": "209008df",
   "metadata": {},
   "outputs": [
    {
     "data": {
      "text/plain": [
       "array([  3.44444534, 285.05902447])"
      ]
     },
     "execution_count": 9,
     "metadata": {},
     "output_type": "execute_result"
    }
   ],
   "source": [
    "eb_matrix_eigenvalues, eb_matrix_eigenvectors = scipy.linalg.eig(eb_matrix)\n",
    "timescales = -1/(np.real(eb_matrix_eigenvalues))*tstep\n",
    "timescales"
   ]
  },
  {
   "cell_type": "code",
   "execution_count": 10,
   "id": "55fd6cb6",
   "metadata": {},
   "outputs": [
    {
     "data": {
      "text/plain": [
       "array([0.4434652 , 0.31989358])"
      ]
     },
     "execution_count": 10,
     "metadata": {},
     "output_type": "execute_result"
    }
   ],
   "source": [
    "response_coefficients = timescales / tstep * (eb_matrix_eigenvectors[0,:] * scipy.linalg.inv(eb_matrix_eigenvectors)[:,0]) / ohc[0]\n",
    "response_coefficients"
   ]
  },
  {
   "cell_type": "code",
   "execution_count": 11,
   "id": "80f00658",
   "metadata": {},
   "outputs": [],
   "source": [
    "# required for running DICE\n",
    "tstep = 5\n",
    "\n",
    "# need edit to heat capacities (W m-2 K-1 yr)\n",
    "f2x = 3.93\n",
    "ohc = [7.7/tstep, 147/tstep]\n",
    "oht = [1.31, 0.88]  \n",
    "    # in Cummins notation, the climate feedback parameter is kappa1, and ocean heat transfer is kappa2, ...\n",
    "eps = 1.03\n",
    "\n",
    "eb_matrix = np.zeros((n_box, n_box))\n",
    "\n",
    "# First row\n",
    "eb_matrix[0, :2] = [\n",
    "    -(oht[0]+eps*oht[1])/ohc[0],\n",
    "    eps*oht[1]/ohc[0],\n",
    "]\n",
    "\n",
    "# Last row\n",
    "eb_matrix[-1, -2:] = [\n",
    "    oht[-1]/ohc[-1],\n",
    "    -oht[-1]/ohc[-1]\n",
    "]\n",
    "\n",
    "# Matrix exponential\n",
    "eb_matrix_d = scipy.linalg.expm(eb_matrix)\n",
    "eb_matrix_d\n",
    "\n",
    "forcing_vector = np.zeros(n_box)\n",
    "forcing_vector[0] = 1/ohc[0]\n",
    "# forcing_vector[0] = 1000\n",
    "forcing_vector_d = scipy.linalg.solve(eb_matrix, (eb_matrix_d - np.identity(n_box)) @ forcing_vector)\n",
    "forcing_vector_d\n",
    "\n",
    "solution5 = np.zeros((int(150/tstep)+1, n_box))\n",
    "# solution[0, 0] = 0\n",
    "for i in range(1, len(solution5)):\n",
    "    solution5[i, :] = eb_matrix_d @ solution5[i-1, :] + forcing_vector_d * f2x"
   ]
  },
  {
   "cell_type": "markdown",
   "id": "37aec602",
   "metadata": {},
   "source": [
    "The matrix equation for the EBM is shorthand for:\n",
    "\n",
    "\\begin{equation}\n",
    "T_1(t+1) = A_{11}T_1(t) + A_{12}T_2(t) + b_1 F(t) \\\\\n",
    "T_2(t+1) = A_{21}T_1(t) + A_{21}T_2(t) + b_2 F(t)\n",
    "\\end{equation}\n",
    "\n",
    "where $A$ is the discretised energy balance matrix, $b$ is the discretised forcing vector, $T_1$ is the mixed layer temperature and $T_2$ the ocean layer temperature."
   ]
  },
  {
   "cell_type": "code",
   "execution_count": 12,
   "id": "057fba4f",
   "metadata": {},
   "outputs": [
    {
     "data": {
      "text/plain": [
       "array([[0.2406594 , 0.30716641],\n",
       "       [0.01562104, 0.97614564]])"
      ]
     },
     "execution_count": 12,
     "metadata": {},
     "output_type": "execute_result"
    }
   ],
   "source": [
    "eb_matrix_d"
   ]
  },
  {
   "cell_type": "code",
   "execution_count": 13,
   "id": "59d70443",
   "metadata": {
    "scrolled": true
   },
   "outputs": [
    {
     "data": {
      "text/plain": [
       "array([0.34517113, 0.00628497])"
      ]
     },
     "execution_count": 13,
     "metadata": {},
     "output_type": "execute_result"
    }
   ],
   "source": [
    "forcing_vector_d"
   ]
  },
  {
   "cell_type": "code",
   "execution_count": 14,
   "id": "3df0dd74",
   "metadata": {},
   "outputs": [
    {
     "data": {
      "text/plain": [
       "array([  3.44444534, 285.05902447])"
      ]
     },
     "execution_count": 14,
     "metadata": {},
     "output_type": "execute_result"
    }
   ],
   "source": [
    "eb_matrix_eigenvalues, eb_matrix_eigenvectors = scipy.linalg.eig(eb_matrix)\n",
    "timescales = -1/(np.real(eb_matrix_eigenvalues))*tstep\n",
    "timescales"
   ]
  },
  {
   "cell_type": "code",
   "execution_count": 15,
   "id": "f59c7eeb",
   "metadata": {},
   "outputs": [
    {
     "data": {
      "text/plain": [
       "array([0.4434652 , 0.31989358])"
      ]
     },
     "execution_count": 15,
     "metadata": {},
     "output_type": "execute_result"
    }
   ],
   "source": [
    "response_coefficients = timescales / tstep * (eb_matrix_eigenvectors[0,:] * scipy.linalg.inv(eb_matrix_eigenvectors)[:,0]) / ohc[0]\n",
    "response_coefficients"
   ]
  },
  {
   "cell_type": "code",
   "execution_count": 16,
   "id": "52f222ab",
   "metadata": {},
   "outputs": [
    {
     "data": {
      "text/plain": [
       "3.0"
      ]
     },
     "execution_count": 16,
     "metadata": {},
     "output_type": "execute_result"
    }
   ],
   "source": [
    "ecs = f2x * np.sum(response_coefficients)\n",
    "ecs"
   ]
  },
  {
   "cell_type": "code",
   "execution_count": 17,
   "id": "743f80e4",
   "metadata": {},
   "outputs": [
    {
     "data": {
      "text/plain": [
       "1.798469224180181"
      ]
     },
     "execution_count": 17,
     "metadata": {},
     "output_type": "execute_result"
    }
   ],
   "source": [
    "DOUBLING_TIME_1PCT = np.log(2)/np.log(1.01)\n",
    "tcr = f2x * np.sum(\n",
    "    response_coefficients*(\n",
    "        1 - timescales/DOUBLING_TIME_1PCT * (\n",
    "            1 - np.exp(-DOUBLING_TIME_1PCT/timescales)\n",
    "        )\n",
    "    )\n",
    ")\n",
    "tcr"
   ]
  },
  {
   "cell_type": "code",
   "execution_count": 18,
   "id": "c59ca05b",
   "metadata": {},
   "outputs": [
    {
     "data": {
      "text/plain": [
       "[<matplotlib.lines.Line2D at 0x14149c640>]"
      ]
     },
     "execution_count": 18,
     "metadata": {},
     "output_type": "execute_result"
    },
    {
     "data": {
      "image/png": "[encoded data removed]",
      "text/plain": [
       "<Figure size 432x288 with 1 Axes>"
      ]
     },
     "metadata": {
      "needs_background": "light"
     },
     "output_type": "display_data"
    }
   ],
   "source": [
    "pl.plot(np.arange(0, 151, 1), solution1[:,0])\n",
    "pl.plot(np.arange(0, 151, 1), solution1[:,1])\n",
    "pl.plot(np.arange(0, 151, 5), solution5[:,0])\n",
    "pl.plot(np.arange(0, 151, 5), solution5[:,1])"
   ]
  },
  {
   "cell_type": "markdown",
   "id": "b8c47881",
   "metadata": {},
   "source": [
    "## define convenience functions for running FaIR\n",
    "\n",
    "The main differences to here and AR6 are:\n",
    "- we specify `restart_out=True`\n",
    "- and we want to truncate the runs at ~2020~ 2015, so we have to chop the natural emissions time series early\n",
    "- we have to run impulse response rather than energy balance because of restarts (I think)\n",
    "\n",
    "We then need to run again with the full AR6 setup and get the actual diagnosed temperatures"
   ]
  },
  {
   "cell_type": "markdown",
   "id": "9d83d681",
   "metadata": {},
   "source": [
    "### convert energy balance to impulse response\n",
    "\n",
    "See:\n",
    "- https://github.com/chrisroadmap/ar6/blob/main/notebooks/140_WG3_draw_fair_samples.ipynb\n",
    "- https://github.com/chrisroadmap/ar6/blob/main/notebooks/200_chapter6_impulse_response_function.ipynb"
   ]
  },
  {
   "cell_type": "code",
   "execution_count": 19,
   "id": "549bdfb8",
   "metadata": {},
   "outputs": [],
   "source": [
    "def _calculate_geoffroy_helper_parameters(\n",
    "    cmix, cdeep, lambda0, efficacy, eta, f2x\n",
    "):\n",
    "\n",
    "    ecs = f2x/lambda0\n",
    "    tcr = f2x/(lambda0 + efficacy*eta)\n",
    "    \n",
    "    b_pt1 = (lambda0 + efficacy * eta) / cmix\n",
    "    b_pt2 = eta / cdeep\n",
    "    b = b_pt1 + b_pt2\n",
    "    b_star = b_pt1 - b_pt2\n",
    "    delta = b ** 2 - (4 * lambda0 * eta) / (cmix * cdeep)\n",
    "\n",
    "    taucoeff = cmix * cdeep / (2 * lambda0 * eta)\n",
    "    d1 = taucoeff * (b - delta ** 0.5)\n",
    "    d2 = taucoeff * (b + delta ** 0.5)\n",
    "\n",
    "    phicoeff = cmix / (2 * efficacy * eta)\n",
    "    phi1 = phicoeff * (b_star - delta ** 0.5)\n",
    "    phi2 = phicoeff * (b_star + delta ** 0.5)\n",
    "\n",
    "    qdenom = cmix * (phi2 - phi1)\n",
    "    q1 = d1 * phi2 / qdenom\n",
    "    q2 = -d2 * phi1 / qdenom\n",
    "\n",
    "    out = {\n",
    "        \"d1\": d1,\n",
    "        \"d2\": d2,\n",
    "        \"q1\": q1,\n",
    "        \"q2\": q2,\n",
    "        \"ecs\": ecs,\n",
    "        \"tcr\": tcr,\n",
    "    }\n",
    "    return out"
   ]
  },
  {
   "cell_type": "code",
   "execution_count": 20,
   "id": "bf4f1bbe",
   "metadata": {},
   "outputs": [],
   "source": [
    "def run_fair(args):\n",
    "    c, f, t, restart_out = fair.forward.fair_scm(**args)\n",
    "    return (\n",
    "        c[:,0],\n",
    "        np.sum(f, axis=1), \n",
    "        t-np.mean(t[100:151]),\n",
    "        restart_out[0][0],\n",
    "        restart_out[0][1], \n",
    "        restart_out[0][2], \n",
    "        restart_out[0][3])\n",
    "\n",
    "def fair_process(emissions):\n",
    "    updated_config = []\n",
    "    for i, cfg in enumerate(config_list):\n",
    "        updated_config.append({})\n",
    "        for key, value in cfg.items():\n",
    "            if isinstance(value, list):\n",
    "                updated_config[i][key] = np.asarray(value)\n",
    "            else:\n",
    "                updated_config[i][key] = value\n",
    "        updated_config[i]['emissions'] = emissions[:266]\n",
    "        updated_config[i]['diagnostics'] = 'AR6'\n",
    "        updated_config[i][\"efficacy\"] = np.ones(45)\n",
    "        updated_config[i][\"gir_carbon_cycle\"] = True\n",
    "        updated_config[i][\"temperature_function\"] = \"Millar\"\n",
    "        updated_config[i][\"aerosol_forcing\"] = \"aerocom+ghan2\"\n",
    "        updated_config[i][\"fixPre1850RCP\"] = False\n",
    "        updated_config[i][\"restart_out\"] = True\n",
    "        solar_truncated = updated_config[i][\"F_solar\"][:266]\n",
    "        updated_config[i]['F_solar'] = solar_truncated\n",
    "        volcanic_truncated = updated_config[i][\"F_volcanic\"][:266]\n",
    "        updated_config[i]['F_volcanic'] = volcanic_truncated\n",
    "        nat_truncated = updated_config[i]['natural'][:266, :]\n",
    "        updated_config[i]['natural'] = nat_truncated\n",
    "        out = _calculate_geoffroy_helper_parameters(\n",
    "            cfg['ocean_heat_capacity'][0],\n",
    "            cfg['ocean_heat_capacity'][1],\n",
    "            cfg['lambda_global'],\n",
    "            cfg['deep_ocean_efficacy'],\n",
    "            cfg['ocean_heat_exchange'],\n",
    "            cfg['F2x']\n",
    "        )\n",
    "        updated_config[i]['d'] = np.array([out['d1'], out['d2']])\n",
    "        updated_config[i]['q'] = np.array([out['q1'], out['q2']])\n",
    "        \n",
    "    shape = (266, len(updated_config))\n",
    "    c_co2 = np.ones(shape) * np.nan\n",
    "    t = np.ones(shape) * np.nan\n",
    "    f_tot = np.ones(shape) * np.nan\n",
    "    cbox = np.ones((4, len(updated_config))) * np.nan\n",
    "    \n",
    "    for i, cfg in tqdm(enumerate(updated_config), total=len(updated_config), position=0, leave=True):\n",
    "        c_co2[:,i], f_tot[:,i], t[:,i], cbox[0,i], cbox[1,i], cbox[2,i], cbox[3,i] = run_fair(updated_config[i])\n",
    "\n",
    "\n",
    "    return c_co2, f_tot, t, cbox"
   ]
  },
  {
   "cell_type": "markdown",
   "id": "f7913136",
   "metadata": {},
   "source": [
    "## Run and print results"
   ]
  },
  {
   "cell_type": "code",
   "execution_count": 21,
   "id": "4108cfd8",
   "metadata": {},
   "outputs": [
    {
     "name": "stderr",
     "output_type": "stream",
     "text": [
      "100%|███████████████████████████████████████| 2237/2237 [03:29<00:00, 10.66it/s]\n"
     ]
    }
   ],
   "source": [
    "results_out = {}\n",
    "(\n",
    "    results_out['concentrations'],\n",
    "    results_out['effective_radiative_forcings'],\n",
    "    results_out['temperatures'],\n",
    "    results_out['carbon_boxes']\n",
    ") = fair_process(emissions_out)"
   ]
  },
  {
   "cell_type": "code",
   "execution_count": 22,
   "id": "b4255b0e",
   "metadata": {},
   "outputs": [
    {
     "data": {
      "text/plain": [
       "array([60.79646244, 60.79680773, 60.79707325, ..., 60.79548877,\n",
       "       60.7971741 , 60.79428085])"
      ]
     },
     "execution_count": 22,
     "metadata": {},
     "output_type": "execute_result"
    }
   ],
   "source": [
    "results_out['carbon_boxes'][0,:]"
   ]
  },
  {
   "cell_type": "code",
   "execution_count": 23,
   "id": "90249af2",
   "metadata": {},
   "outputs": [
    {
     "data": {
      "text/plain": [
       "array([44.54963267, 44.55410384, 45.40955744, ..., 43.78476676,\n",
       "       44.81162861, 42.40037584])"
      ]
     },
     "execution_count": 23,
     "metadata": {},
     "output_type": "execute_result"
    }
   ],
   "source": [
    "results_out['carbon_boxes'][1,:]"
   ]
  },
  {
   "cell_type": "code",
   "execution_count": 24,
   "id": "3ab7fd26",
   "metadata": {},
   "outputs": [
    {
     "data": {
      "text/plain": [
       "array([17.55049281, 16.5986711 , 18.93301101, ..., 17.34961367,\n",
       "       16.53691245, 15.70608604])"
      ]
     },
     "execution_count": 24,
     "metadata": {},
     "output_type": "execute_result"
    }
   ],
   "source": [
    "results_out['carbon_boxes'][2,:]"
   ]
  },
  {
   "cell_type": "code",
   "execution_count": 25,
   "id": "e320a838",
   "metadata": {},
   "outputs": [
    {
     "data": {
      "text/plain": [
       "array([2.86399779, 2.57284709, 3.21650819, ..., 2.88448037, 2.54560072,\n",
       "       2.53877829])"
      ]
     },
     "execution_count": 25,
     "metadata": {},
     "output_type": "execute_result"
    }
   ],
   "source": [
    "results_out['carbon_boxes'][3,:]"
   ]
  },
  {
   "cell_type": "code",
   "execution_count": 26,
   "id": "a49ac3cd",
   "metadata": {},
   "outputs": [
    {
     "name": "stdout",
     "output_type": "stream",
     "text": [
      "60.79608114016109 0.0015361822430005662\n"
     ]
    }
   ],
   "source": [
    "print(results_out['carbon_boxes'][0,:].mean(), results_out['carbon_boxes'][0,:].std())"
   ]
  },
  {
   "cell_type": "code",
   "execution_count": 27,
   "id": "7a07467d",
   "metadata": {},
   "outputs": [
    {
     "name": "stdout",
     "output_type": "stream",
     "text": [
      "44.03760835719547 1.47076097051587\n"
     ]
    }
   ],
   "source": [
    "print(results_out['carbon_boxes'][1,:].mean(), results_out['carbon_boxes'][1,:].std())"
   ]
  },
  {
   "cell_type": "code",
   "execution_count": 28,
   "id": "f85cabd5",
   "metadata": {},
   "outputs": [
    {
     "name": "stdout",
     "output_type": "stream",
     "text": [
      "16.641575128193654 1.4766589080060968\n"
     ]
    }
   ],
   "source": [
    "print(results_out['carbon_boxes'][2,:].mean(), results_out['carbon_boxes'][2,:].std())"
   ]
  },
  {
   "cell_type": "code",
   "execution_count": 29,
   "id": "52ce688e",
   "metadata": {},
   "outputs": [
    {
     "name": "stdout",
     "output_type": "stream",
     "text": [
      "2.653509946114295 0.3467157455750376\n"
     ]
    }
   ],
   "source": [
    "print(results_out['carbon_boxes'][3,:].mean(), results_out['carbon_boxes'][3,:].std())"
   ]
  },
  {
   "cell_type": "code",
   "execution_count": 30,
   "id": "a1b0bf3a",
   "metadata": {},
   "outputs": [
    {
     "data": {
      "text/plain": [
       "{'concentrations': array([[275.65633583, 276.98880186, 273.94540566, ..., 276.36567192,\n",
       "         276.1523022 , 279.32820817],\n",
       "        [275.66817772, 277.00132419, 273.95732615, ..., 276.37684948,\n",
       "         276.16534091, 279.33916674],\n",
       "        [275.6922506 , 277.02641789, 273.98152136, ..., 276.39996667,\n",
       "         276.19126099, 279.36196254],\n",
       "        ...,\n",
       "        [394.96724281, 395.33324439, 395.62642108, ..., 394.64090267,\n",
       "         394.70463255, 394.40765427],\n",
       "        [397.48121767, 397.74195602, 398.22744965, ..., 397.18816756,\n",
       "         397.09784616, 396.88517044],\n",
       "        [400.06642781, 400.21694637, 400.90426367, ..., 399.81038579,\n",
       "         399.55728686, 399.43479949]]),\n",
       " 'effective_radiative_forcings': array([[0.2721372 , 0.31034369, 0.27960478, ..., 0.27054144, 0.32778693,\n",
       "         0.32246421],\n",
       "        [0.26193777, 0.26699833, 0.23462622, ..., 0.24319164, 0.29304396,\n",
       "         0.27825703],\n",
       "        [0.24499493, 0.22287213, 0.19858798, ..., 0.20765912, 0.25305504,\n",
       "         0.24232657],\n",
       "        ...,\n",
       "        [2.47040139, 3.20133874, 2.80069848, ..., 2.79857107, 2.96478822,\n",
       "         2.68215502],\n",
       "        [2.46707498, 3.24465037, 2.84286029, ..., 2.81417733, 3.0084899 ,\n",
       "         2.71839997],\n",
       "        [2.57567123, 3.25264118, 2.88057069, ..., 2.87694949, 3.07550709,\n",
       "         2.78431532]]),\n",
       " 'temperatures': array([[-0.02154778, -0.02913948,  0.01081437, ..., -0.02197501,\n",
       "         -0.04475865,  0.00975164],\n",
       "        [-0.00339384, -0.01113254,  0.02492514, ..., -0.00463602,\n",
       "         -0.02558654,  0.02554415],\n",
       "        [ 0.00979996, -0.00259168,  0.02699754, ...,  0.00498652,\n",
       "         -0.0141017 ,  0.03610647],\n",
       "        ...,\n",
       "        [ 1.01348801,  1.28323286,  1.14317979, ...,  1.15190486,\n",
       "          1.12673954,  1.16393803],\n",
       "        [ 1.03365501,  1.30902945,  1.16907046, ...,  1.17543063,\n",
       "          1.1535008 ,  1.19301551],\n",
       "        [ 1.0597346 ,  1.32968839,  1.19156278, ...,  1.20033203,\n",
       "          1.18092168,  1.22286565]]),\n",
       " 'carbon_boxes': array([[60.79646244, 60.79680773, 60.79707325, ..., 60.79548877,\n",
       "         60.7971741 , 60.79428085],\n",
       "        [44.54963267, 44.55410384, 45.40955744, ..., 43.78476676,\n",
       "         44.81162861, 42.40037584],\n",
       "        [17.55049281, 16.5986711 , 18.93301101, ..., 17.34961367,\n",
       "         16.53691245, 15.70608604],\n",
       "        [ 2.86399779,  2.57284709,  3.21650819, ...,  2.88448037,\n",
       "          2.54560072,  2.53877829]])}"
      ]
     },
     "execution_count": 30,
     "metadata": {},
     "output_type": "execute_result"
    }
   ],
   "source": [
    "results_out"
   ]
  },
  {
   "cell_type": "code",
   "execution_count": 31,
   "id": "b43feb14",
   "metadata": {},
   "outputs": [
    {
     "data": {
      "text/plain": [
       "(array([ 11.,  83., 274., 531., 640., 408., 199.,  65.,  24.,   2.]),\n",
       " array([0.54480157, 0.63783573, 0.73086988, 0.82390404, 0.9169382 ,\n",
       "        1.00997236, 1.10300651, 1.19604067, 1.28907483, 1.38210899,\n",
       "        1.47514315]),\n",
       " <BarContainer object of 10 artists>)"
      ]
     },
     "execution_count": 31,
     "metadata": {},
     "output_type": "execute_result"
    },
    {
     "data": {
      "image/png": "[encoded data removed]",
      "text/plain": [
       "<Figure size 432x288 with 1 Axes>"
      ]
     },
     "metadata": {
      "needs_background": "light"
     },
     "output_type": "display_data"
    }
   ],
   "source": [
    "pl.hist(results_out['temperatures'][260:271, :].mean(axis=0))"
   ]
  },
  {
   "cell_type": "code",
   "execution_count": 32,
   "id": "02de2c15",
   "metadata": {},
   "outputs": [
    {
     "data": {
      "text/plain": [
       "1.0097831444683252"
      ]
     },
     "execution_count": 32,
     "metadata": {},
     "output_type": "execute_result"
    }
   ],
   "source": [
    "np.median(results_out['temperatures'][265:266, :].mean(axis=0))"
   ]
  },
  {
   "cell_type": "code",
   "execution_count": 33,
   "id": "9e6f4418",
   "metadata": {},
   "outputs": [
    {
     "data": {
      "text/plain": [
       "397.25858457032643"
      ]
     },
     "execution_count": 33,
     "metadata": {},
     "output_type": "execute_result"
    },
    {
     "data": {
      "image/png": "[encoded data removed]",
      "text/plain": [
       "<Figure size 432x288 with 1 Axes>"
      ]
     },
     "metadata": {
      "needs_background": "light"
     },
     "output_type": "display_data"
    }
   ],
   "source": [
    "pl.hist(results_out['concentrations'][264]);\n",
    "np.median(results_out['concentrations'][264])"
   ]
  },
  {
   "cell_type": "markdown",
   "id": "0d98db99",
   "metadata": {},
   "source": [
    "## Save results as a pickle object"
   ]
  },
  {
   "cell_type": "code",
   "execution_count": 34,
   "id": "3bc140f5",
   "metadata": {},
   "outputs": [],
   "source": [
    "mkdir_p('../data_output/fair-1.6.4/')\n",
    "with open('../data_output/fair-1.6.4/fair-1.6.4-carbon-boxes.pkl', 'wb') as f:\n",
    "    pickle.dump(results_out, f)"
   ]
  },
  {
   "cell_type": "code",
   "execution_count": null,
   "id": "8d2767f0",
   "metadata": {},
   "outputs": [],
   "source": []
  }
 ],
 "metadata": {
  "kernelspec": {
   "display_name": "Python 3 (ipykernel)",
   "language": "python",
   "name": "python3"
  },
  "language_info": {
   "codemirror_mode": {
    "name": "ipython",
    "version": 3
   },
   "file_extension": ".py",
   "mimetype": "text/x-python",
   "name": "python",
   "nbconvert_exporter": "python",
   "pygments_lexer": "ipython3",
   "version": "3.10.5"
  }
 },
 "nbformat": 4,
 "nbformat_minor": 5
}
