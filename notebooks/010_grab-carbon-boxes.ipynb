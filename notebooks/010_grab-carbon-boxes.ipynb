{
 "cells": [
  {
   "cell_type": "markdown",
   "id": "704c9dba",
   "metadata": {},
   "source": [
    "# Grab carbon boxes\n",
    "\n",
    "This is likely to require the restarts to work with multi-gas - so needs fair version >= 1.6.3 and < 2.0"
   ]
  },
  {
   "cell_type": "markdown",
   "id": "937859d6",
   "metadata": {},
   "source": [
    "## import required packages"
   ]
  },
  {
   "cell_type": "code",
   "execution_count": null,
   "id": "37e1306d",
   "metadata": {},
   "outputs": [],
   "source": [
    "import fair\n",
    "import pandas as pd\n",
    "import numpy as np\n",
    "from scipy.interpolate import interp1d\n",
    "import json\n",
    "from tqdm import tqdm\n",
    "import pickle\n",
    "from climateforcing.utils import mkdir_p"
   ]
  },
  {
   "cell_type": "markdown",
   "id": "80cd3014",
   "metadata": {},
   "source": [
    "## check version installed"
   ]
  },
  {
   "cell_type": "code",
   "execution_count": null,
   "id": "ee2d80ce",
   "metadata": {},
   "outputs": [],
   "source": [
    "fair.__version__"
   ]
  },
  {
   "cell_type": "markdown",
   "id": "485c4ad5",
   "metadata": {},
   "source": [
    "## get SSP2-4.5 emissions pathways (original CMIP6 version)"
   ]
  },
  {
   "cell_type": "code",
   "execution_count": null,
   "id": "034b07e0",
   "metadata": {},
   "outputs": [],
   "source": [
    "ssp_df = pd.read_csv('../data_input/rcmip/rcmip-emissions-annual-means-v5-1-0.csv')\n",
    "years = np.arange(1750, 2021)\n",
    "\n",
    "startyear = 1750\n",
    "first_scenyear = 2015\n",
    "last_scenyear = 2020\n",
    "first_row = int(first_scenyear-startyear)\n",
    "last_row = int(last_scenyear-startyear)\n",
    "\n",
    "species = [\n",
    "    '|CO2|MAGICC Fossil and Industrial',\n",
    "    '|CO2|MAGICC AFOLU',\n",
    "    '|CH4',\n",
    "    '|N2O',\n",
    "    '|Sulfur',\n",
    "    '|CO',\n",
    "    '|VOC',\n",
    "    '|NOx',\n",
    "    '|BC',\n",
    "    '|OC',\n",
    "    '|NH3',\n",
    "    '|CF4',\n",
    "    '|C2F6',\n",
    "    '|C6F14',\n",
    "    '|HFC23',\n",
    "    '|HFC32',\n",
    "    '|HFC4310mee',\n",
    "    '|HFC125',\n",
    "    '|HFC134a',\n",
    "    '|HFC143a',\n",
    "    '|HFC227ea',\n",
    "    '|HFC245fa',\n",
    "    '|SF6',\n",
    "    '|CFC11',\n",
    "    '|CFC12',\n",
    "    '|CFC113',\n",
    "    '|CFC114',\n",
    "    '|CFC115',\n",
    "    '|CCl4',\n",
    "    '|CH3CCl3',\n",
    "    '|HCFC22',\n",
    "    '|HCFC141b',\n",
    "    '|HCFC142b',\n",
    "    '|Halon1211',\n",
    "    '|Halon1202',\n",
    "    '|Halon1301',\n",
    "    '|Halon2402',\n",
    "    '|CH3Br',\n",
    "    '|CH3Cl',\n",
    "]\n",
    "\n",
    "unit_convert = np.ones(40)\n",
    "unit_convert[1] = 12/44/1000\n",
    "unit_convert[2] = 12/44/1000\n",
    "unit_convert[4] = 28/44/1000\n",
    "unit_convert[5] = 32/64\n",
    "unit_convert[8] = 14/46\n",
    "\n",
    "emissions_out = np.ones((271, 40)) * np.nan\n",
    "emissions_out[:,0] = years\n",
    "\n",
    "years_future = [2015, 2020]\n",
    "for i, specie in enumerate(species):\n",
    "    emissions_out[:first_row,i+1] = ssp_df.loc[\n",
    "        (ssp_df['Model']=='MESSAGE-GLOBIOM')&\n",
    "        (ssp_df['Region']=='World')&\n",
    "        (ssp_df['Scenario']=='ssp245')&\n",
    "        (ssp_df['Variable'].str.endswith(specie)),str(startyear):'2014']*unit_convert[i+1]\n",
    "    f = interp1d(years_future, ssp_df.loc[\n",
    "        (ssp_df['Model']=='MESSAGE-GLOBIOM')&\n",
    "        (ssp_df['Region']=='World')&\n",
    "        (ssp_df['Scenario']=='ssp245')&\n",
    "        (ssp_df['Variable'].str.endswith(specie)), '2015':'2020'].dropna(axis=1))\n",
    "    emissions_out[first_row:(last_row+1), i+1] = f(\n",
    "        np.arange(first_scenyear, last_scenyear+1)\n",
    "    )*unit_convert[i+1]"
   ]
  },
  {
   "cell_type": "code",
   "execution_count": null,
   "id": "97927fb8",
   "metadata": {},
   "outputs": [],
   "source": [
    "emissions_out"
   ]
  },
  {
   "cell_type": "markdown",
   "id": "a7000183",
   "metadata": {},
   "source": [
    "## get FaIR v1.6.2 AR6 config\n",
    "\n",
    "It's ok to run 1.6.4 with the 1.6.2 config, they are the same model but the slightly later version enables multigas restarts"
   ]
  },
  {
   "cell_type": "code",
   "execution_count": null,
   "id": "4bd6028d",
   "metadata": {},
   "outputs": [],
   "source": [
    "with open('../data_input/fair-1.6.2/fair-1.6.2-wg3-params.json') as f:\n",
    "    config_list = json.load(f)"
   ]
  },
  {
   "cell_type": "markdown",
   "id": "b8c47881",
   "metadata": {},
   "source": [
    "## define convenience functions for running FaIR\n",
    "\n",
    "The main differences to here and AR6 are:\n",
    "- we specify `restart_out=True`\n",
    "- and we want to truncate the runs at 2020, so we have to chop the natural emissions time series early\n",
    "- we have to run impulse response rather than energy balance"
   ]
  },
  {
   "cell_type": "markdown",
   "id": "9d83d681",
   "metadata": {},
   "source": [
    "### convert energy balance to impulse response\n",
    "\n",
    "See:\n",
    "- https://github.com/chrisroadmap/ar6/blob/main/notebooks/140_WG3_draw_fair_samples.ipynb\n",
    "- https://github.com/chrisroadmap/ar6/blob/main/notebooks/200_chapter6_impulse_response_function.ipynb"
   ]
  },
  {
   "cell_type": "code",
   "execution_count": null,
   "id": "549bdfb8",
   "metadata": {},
   "outputs": [],
   "source": [
    "def _calculate_geoffroy_helper_parameters(\n",
    "    cmix, cdeep, lambda0, efficacy, eta, f2x\n",
    "):\n",
    "\n",
    "    ecs = f2x/lambda0\n",
    "    tcr = f2x/(lambda0 + efficacy*eta)\n",
    "    \n",
    "    b_pt1 = (lambda0 + efficacy * eta) / cmix\n",
    "    b_pt2 = eta / cdeep\n",
    "    b = b_pt1 + b_pt2\n",
    "    b_star = b_pt1 - b_pt2\n",
    "    delta = b ** 2 - (4 * lambda0 * eta) / (cmix * cdeep)\n",
    "\n",
    "    taucoeff = cmix * cdeep / (2 * lambda0 * eta)\n",
    "    d1 = taucoeff * (b - delta ** 0.5)\n",
    "    d2 = taucoeff * (b + delta ** 0.5)\n",
    "\n",
    "    phicoeff = cmix / (2 * efficacy * eta)\n",
    "    phi1 = phicoeff * (b_star - delta ** 0.5)\n",
    "    phi2 = phicoeff * (b_star + delta ** 0.5)\n",
    "\n",
    "    qdenom = cmix * (phi2 - phi1)\n",
    "    q1 = d1 * phi2 / qdenom\n",
    "    q2 = -d2 * phi1 / qdenom\n",
    "\n",
    "    out = {\n",
    "        \"d1\": d1,\n",
    "        \"d2\": d2,\n",
    "        \"q1\": q1,\n",
    "        \"q2\": q2,\n",
    "        \"ecs\": ecs,\n",
    "        \"tcr\": tcr,\n",
    "    }\n",
    "    return out"
   ]
  },
  {
   "cell_type": "code",
   "execution_count": null,
   "id": "bf4f1bbe",
   "metadata": {},
   "outputs": [],
   "source": [
    "def run_fair(args):\n",
    "    c, f, t, restart_out = fair.forward.fair_scm(**args)\n",
    "    return (\n",
    "        c[:,0],\n",
    "        np.sum(f, axis=1), \n",
    "        t-np.mean(t[100:151]),\n",
    "        restart_out[0][0],\n",
    "        restart_out[0][1], \n",
    "        restart_out[0][2], \n",
    "        restart_out[0][3])\n",
    "\n",
    "def fair_process(emissions):\n",
    "    updated_config = []\n",
    "    for i, cfg in enumerate(config_list):\n",
    "        updated_config.append({})\n",
    "        for key, value in cfg.items():\n",
    "            if isinstance(value, list):\n",
    "                updated_config[i][key] = np.asarray(value)\n",
    "            else:\n",
    "                updated_config[i][key] = value\n",
    "        updated_config[i]['emissions'] = emissions\n",
    "        updated_config[i]['diagnostics'] = 'AR6'\n",
    "        updated_config[i][\"efficacy\"] = np.ones(45)\n",
    "        updated_config[i][\"gir_carbon_cycle\"] = True\n",
    "        updated_config[i][\"temperature_function\"] = \"Millar\"\n",
    "        updated_config[i][\"aerosol_forcing\"] = \"aerocom+ghan2\"\n",
    "        updated_config[i][\"fixPre1850RCP\"] = False\n",
    "        updated_config[i][\"restart_out\"] = True\n",
    "        solar_truncated = updated_config[i][\"F_solar\"][:271]\n",
    "        updated_config[i]['F_solar'] = solar_truncated\n",
    "        volcanic_truncated = updated_config[i][\"F_volcanic\"][:271]\n",
    "        updated_config[i]['F_volcanic'] = volcanic_truncated\n",
    "        nat_truncated = updated_config[i]['natural'][:271, :]\n",
    "        updated_config[i]['natural'] = nat_truncated\n",
    "        out = _calculate_geoffroy_helper_parameters(\n",
    "            cfg['ocean_heat_capacity'][0],\n",
    "            cfg['ocean_heat_capacity'][1],\n",
    "            cfg['lambda_global'],\n",
    "            cfg['deep_ocean_efficacy'],\n",
    "            cfg['ocean_heat_exchange'],\n",
    "            cfg['F2x']\n",
    "        )\n",
    "        updated_config[i]['d'] = np.array([out['d1'], out['d2']])\n",
    "        updated_config[i]['q'] = np.array([out['q1'], out['q2']])\n",
    "        \n",
    "    shape = (271, len(updated_config))\n",
    "    c_co2 = np.ones(shape) * np.nan\n",
    "    t = np.ones(shape) * np.nan\n",
    "    f_tot = np.ones(shape) * np.nan\n",
    "    cbox = np.ones((4, len(updated_config))) * np.nan\n",
    "    \n",
    "    for i, cfg in tqdm(enumerate(updated_config), total=len(updated_config), position=0, leave=True):\n",
    "        c_co2[:,i], f_tot[:,i], t[:,i], cbox[0,i], cbox[1,i], cbox[2,i], cbox[3,i] = run_fair(updated_config[i])\n",
    "\n",
    "\n",
    "    return c_co2, f_tot, t, cbox"
   ]
  },
  {
   "cell_type": "markdown",
   "id": "f7913136",
   "metadata": {},
   "source": [
    "## Run and print results"
   ]
  },
  {
   "cell_type": "code",
   "execution_count": null,
   "id": "4108cfd8",
   "metadata": {},
   "outputs": [],
   "source": [
    "results_out = {}\n",
    "(\n",
    "    results_out['concentrations'],\n",
    "    results_out['effective_radiative_forcings'],\n",
    "    results_out['temperatures'],\n",
    "    results_out['carbon_boxes']\n",
    ") = fair_process(emissions_out)"
   ]
  },
  {
   "cell_type": "code",
   "execution_count": null,
   "id": "b4255b0e",
   "metadata": {},
   "outputs": [],
   "source": [
    "results_out['carbon_boxes'][0,:]"
   ]
  },
  {
   "cell_type": "code",
   "execution_count": null,
   "id": "90249af2",
   "metadata": {},
   "outputs": [],
   "source": [
    "results_out['carbon_boxes'][1,:]"
   ]
  },
  {
   "cell_type": "code",
   "execution_count": null,
   "id": "3ab7fd26",
   "metadata": {},
   "outputs": [],
   "source": [
    "results_out['carbon_boxes'][2,:]"
   ]
  },
  {
   "cell_type": "code",
   "execution_count": null,
   "id": "e320a838",
   "metadata": {},
   "outputs": [],
   "source": [
    "results_out['carbon_boxes'][3,:]"
   ]
  },
  {
   "cell_type": "code",
   "execution_count": null,
   "id": "a49ac3cd",
   "metadata": {},
   "outputs": [],
   "source": [
    "print(results_out['carbon_boxes'][0,:].mean(), results_out['carbon_boxes'][0,:].std())"
   ]
  },
  {
   "cell_type": "code",
   "execution_count": null,
   "id": "7a07467d",
   "metadata": {},
   "outputs": [],
   "source": [
    "print(results_out['carbon_boxes'][1,:].mean(), results_out['carbon_boxes'][1,:].std())"
   ]
  },
  {
   "cell_type": "code",
   "execution_count": null,
   "id": "f85cabd5",
   "metadata": {},
   "outputs": [],
   "source": [
    "print(results_out['carbon_boxes'][2,:].mean(), results_out['carbon_boxes'][2,:].std())"
   ]
  },
  {
   "cell_type": "code",
   "execution_count": null,
   "id": "52ce688e",
   "metadata": {},
   "outputs": [],
   "source": [
    "print(results_out['carbon_boxes'][3,:].mean(), results_out['carbon_boxes'][3,:].std())"
   ]
  },
  {
   "cell_type": "code",
   "execution_count": null,
   "id": "a1b0bf3a",
   "metadata": {},
   "outputs": [],
   "source": [
    "results_out"
   ]
  },
  {
   "cell_type": "markdown",
   "id": "0d98db99",
   "metadata": {},
   "source": [
    "## Save results as a pickle object"
   ]
  },
  {
   "cell_type": "code",
   "execution_count": null,
   "id": "3bc140f5",
   "metadata": {},
   "outputs": [],
   "source": [
    "mkdir_p('../data_output/fair-1.6.4/')\n",
    "with open('../data_output/fair-1.6.4/fair-1.6.4-carbon-boxes.pkl', 'wb') as f:\n",
    "    pickle.dump(results_out, f)"
   ]
  },
  {
   "cell_type": "code",
   "execution_count": null,
   "id": "8d2767f0",
   "metadata": {},
   "outputs": [],
   "source": []
  }
 ],
 "metadata": {
  "kernelspec": {
   "display_name": "Python 3 (ipykernel)",
   "language": "python",
   "name": "python3"
  },
  "language_info": {
   "codemirror_mode": {
    "name": "ipython",
    "version": 3
   },
   "file_extension": ".py",
   "mimetype": "text/x-python",
   "name": "python",
   "nbconvert_exporter": "python",
   "pygments_lexer": "ipython3",
   "version": "3.10.2"
  }
 },
 "nbformat": 4,
 "nbformat_minor": 5
}
